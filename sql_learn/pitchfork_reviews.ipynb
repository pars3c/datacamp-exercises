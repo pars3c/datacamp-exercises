{
 "cells": [
  {
   "cell_type": "code",
   "execution_count": null,
   "metadata": {},
   "outputs": [],
   "source": []
  },
  {
   "cell_type": "markdown",
   "metadata": {},
   "source": [
    "<h3>Pitchfork is a music-centric online magazine. It was started in 1995 and grew out of independent music reviewing into a general publication format, but is still famed for its variety music reviews. </h3>"
   ]
  },
  {
   "cell_type": "markdown",
   "metadata": {},
   "source": [
    "<h2>Objectives</h2>\n",
    "<ul>\n",
    "    <li>Do review scores for individual artists generally improve over time, or go down?</li>\n",
    "    <li>How has Pitchfork's review genre selection changed over time?</li>\n",
    "    <li>Who are the most highly rated artists? The least highly rated artists?</li>\n",
    "</ul>"
   ]
  },
  {
   "cell_type": "code",
   "execution_count": 1,
   "metadata": {},
   "outputs": [],
   "source": [
    "import pandas as pd\n",
    "import numpy as np\n",
    "from sqlalchemy import create_engine\n"
   ]
  },
  {
   "cell_type": "code",
   "execution_count": 2,
   "metadata": {},
   "outputs": [],
   "source": [
    "engine = create_engine('sqlite:///database.sqlite')\n"
   ]
  },
  {
   "cell_type": "code",
   "execution_count": 3,
   "metadata": {},
   "outputs": [
    {
     "name": "stdout",
     "output_type": "stream",
     "text": [
      "['artists', 'content', 'genres', 'labels', 'reviews', 'years']\n"
     ]
    }
   ],
   "source": [
    "table_names = engine.table_names()\n",
    "print(table_names)"
   ]
  },
  {
   "cell_type": "code",
   "execution_count": 4,
   "metadata": {},
   "outputs": [],
   "source": [
    "with engine.connect() as con:\n",
    "    rs = con.execute(\"SELECT * FROM artists \\\n",
    "                     INNER JOIN content ON content.reviewid = artists.reviewid \\\n",
    "                     INNER JOIN genres ON genres.reviewid = artists.reviewid \\\n",
    "                     INNER JOIN labels ON labels.reviewid = artists.reviewid \\\n",
    "                     INNER JOIN reviews ON reviews.reviewid = artists.reviewid \\\n",
    "                     INNER JOIN years ON years.reviewid = artists.reviewid \\\n",
    "                     \")\n",
    "    df = pd.DataFrame(rs.fetchall())\n",
    "    df.columns = rs.keys()"
   ]
  },
  {
   "cell_type": "code",
   "execution_count": 5,
   "metadata": {},
   "outputs": [],
   "source": [
    "df = df.drop('reviewid', axis=1)"
   ]
  },
  {
   "cell_type": "code",
   "execution_count": 6,
   "metadata": {},
   "outputs": [
    {
     "data": {
      "text/html": [
       "<div>\n",
       "<style scoped>\n",
       "    .dataframe tbody tr th:only-of-type {\n",
       "        vertical-align: middle;\n",
       "    }\n",
       "\n",
       "    .dataframe tbody tr th {\n",
       "        vertical-align: top;\n",
       "    }\n",
       "\n",
       "    .dataframe thead th {\n",
       "        text-align: right;\n",
       "    }\n",
       "</style>\n",
       "<table border=\"1\" class=\"dataframe\">\n",
       "  <thead>\n",
       "    <tr style=\"text-align: right;\">\n",
       "      <th></th>\n",
       "      <th>artist</th>\n",
       "      <th>content</th>\n",
       "      <th>genre</th>\n",
       "      <th>label</th>\n",
       "      <th>title</th>\n",
       "      <th>artist</th>\n",
       "      <th>url</th>\n",
       "      <th>score</th>\n",
       "      <th>best_new_music</th>\n",
       "      <th>author</th>\n",
       "      <th>author_type</th>\n",
       "      <th>pub_date</th>\n",
       "      <th>pub_weekday</th>\n",
       "      <th>pub_day</th>\n",
       "      <th>pub_month</th>\n",
       "      <th>pub_year</th>\n",
       "      <th>year</th>\n",
       "    </tr>\n",
       "  </thead>\n",
       "  <tbody>\n",
       "    <tr>\n",
       "      <th>0</th>\n",
       "      <td>massive attack</td>\n",
       "      <td>“Trip-hop” eventually became a ’90s punchline,...</td>\n",
       "      <td>electronic</td>\n",
       "      <td>virgin</td>\n",
       "      <td>mezzanine</td>\n",
       "      <td>massive attack</td>\n",
       "      <td>http://pitchfork.com/reviews/albums/22703-mezz...</td>\n",
       "      <td>9.3</td>\n",
       "      <td>0</td>\n",
       "      <td>nate patrin</td>\n",
       "      <td>contributor</td>\n",
       "      <td>2017-01-08</td>\n",
       "      <td>6</td>\n",
       "      <td>8</td>\n",
       "      <td>1</td>\n",
       "      <td>2017</td>\n",
       "      <td>1998.0</td>\n",
       "    </tr>\n",
       "    <tr>\n",
       "      <th>1</th>\n",
       "      <td>krallice</td>\n",
       "      <td>Eight years, five albums, and two EPs in, the ...</td>\n",
       "      <td>metal</td>\n",
       "      <td>hathenter</td>\n",
       "      <td>prelapsarian</td>\n",
       "      <td>krallice</td>\n",
       "      <td>http://pitchfork.com/reviews/albums/22721-prel...</td>\n",
       "      <td>7.9</td>\n",
       "      <td>0</td>\n",
       "      <td>zoe camp</td>\n",
       "      <td>contributor</td>\n",
       "      <td>2017-01-07</td>\n",
       "      <td>5</td>\n",
       "      <td>7</td>\n",
       "      <td>1</td>\n",
       "      <td>2017</td>\n",
       "      <td>2016.0</td>\n",
       "    </tr>\n",
       "    <tr>\n",
       "      <th>2</th>\n",
       "      <td>uranium club</td>\n",
       "      <td>Minneapolis’ Uranium Club seem to revel in bei...</td>\n",
       "      <td>rock</td>\n",
       "      <td>fashionable idiots</td>\n",
       "      <td>all of them naturals</td>\n",
       "      <td>uranium club</td>\n",
       "      <td>http://pitchfork.com/reviews/albums/22659-all-...</td>\n",
       "      <td>7.3</td>\n",
       "      <td>0</td>\n",
       "      <td>david glickman</td>\n",
       "      <td>contributor</td>\n",
       "      <td>2017-01-07</td>\n",
       "      <td>5</td>\n",
       "      <td>7</td>\n",
       "      <td>1</td>\n",
       "      <td>2017</td>\n",
       "      <td>2016.0</td>\n",
       "    </tr>\n",
       "    <tr>\n",
       "      <th>3</th>\n",
       "      <td>uranium club</td>\n",
       "      <td>Minneapolis’ Uranium Club seem to revel in bei...</td>\n",
       "      <td>rock</td>\n",
       "      <td>static shock</td>\n",
       "      <td>all of them naturals</td>\n",
       "      <td>uranium club</td>\n",
       "      <td>http://pitchfork.com/reviews/albums/22659-all-...</td>\n",
       "      <td>7.3</td>\n",
       "      <td>0</td>\n",
       "      <td>david glickman</td>\n",
       "      <td>contributor</td>\n",
       "      <td>2017-01-07</td>\n",
       "      <td>5</td>\n",
       "      <td>7</td>\n",
       "      <td>1</td>\n",
       "      <td>2017</td>\n",
       "      <td>2016.0</td>\n",
       "    </tr>\n",
       "    <tr>\n",
       "      <th>4</th>\n",
       "      <td>kleenex</td>\n",
       "      <td>Kleenex began with a crash. It transpired one ...</td>\n",
       "      <td>rock</td>\n",
       "      <td>kill rock stars</td>\n",
       "      <td>first songs</td>\n",
       "      <td>kleenex, liliput</td>\n",
       "      <td>http://pitchfork.com/reviews/albums/22661-firs...</td>\n",
       "      <td>9.0</td>\n",
       "      <td>1</td>\n",
       "      <td>jenn pelly</td>\n",
       "      <td>associate reviews editor</td>\n",
       "      <td>2017-01-06</td>\n",
       "      <td>4</td>\n",
       "      <td>6</td>\n",
       "      <td>1</td>\n",
       "      <td>2017</td>\n",
       "      <td>2016.0</td>\n",
       "    </tr>\n",
       "  </tbody>\n",
       "</table>\n",
       "</div>"
      ],
      "text/plain": [
       "           artist                                            content  \\\n",
       "0  massive attack  “Trip-hop” eventually became a ’90s punchline,...   \n",
       "1        krallice  Eight years, five albums, and two EPs in, the ...   \n",
       "2    uranium club  Minneapolis’ Uranium Club seem to revel in bei...   \n",
       "3    uranium club  Minneapolis’ Uranium Club seem to revel in bei...   \n",
       "4         kleenex  Kleenex began with a crash. It transpired one ...   \n",
       "\n",
       "        genre               label                 title            artist  \\\n",
       "0  electronic              virgin             mezzanine    massive attack   \n",
       "1       metal           hathenter          prelapsarian          krallice   \n",
       "2        rock  fashionable idiots  all of them naturals      uranium club   \n",
       "3        rock        static shock  all of them naturals      uranium club   \n",
       "4        rock     kill rock stars           first songs  kleenex, liliput   \n",
       "\n",
       "                                                 url  score  best_new_music  \\\n",
       "0  http://pitchfork.com/reviews/albums/22703-mezz...    9.3               0   \n",
       "1  http://pitchfork.com/reviews/albums/22721-prel...    7.9               0   \n",
       "2  http://pitchfork.com/reviews/albums/22659-all-...    7.3               0   \n",
       "3  http://pitchfork.com/reviews/albums/22659-all-...    7.3               0   \n",
       "4  http://pitchfork.com/reviews/albums/22661-firs...    9.0               1   \n",
       "\n",
       "           author               author_type    pub_date  pub_weekday  pub_day  \\\n",
       "0     nate patrin               contributor  2017-01-08            6        8   \n",
       "1        zoe camp               contributor  2017-01-07            5        7   \n",
       "2  david glickman               contributor  2017-01-07            5        7   \n",
       "3  david glickman               contributor  2017-01-07            5        7   \n",
       "4      jenn pelly  associate reviews editor  2017-01-06            4        6   \n",
       "\n",
       "   pub_month  pub_year    year  \n",
       "0          1      2017  1998.0  \n",
       "1          1      2017  2016.0  \n",
       "2          1      2017  2016.0  \n",
       "3          1      2017  2016.0  \n",
       "4          1      2017  2016.0  "
      ]
     },
     "execution_count": 6,
     "metadata": {},
     "output_type": "execute_result"
    }
   ],
   "source": [
    "df.head()"
   ]
  },
  {
   "cell_type": "code",
   "execution_count": 7,
   "metadata": {},
   "outputs": [
    {
     "name": "stdout",
     "output_type": "stream",
     "text": [
      "<class 'pandas.core.frame.DataFrame'>\n",
      "RangeIndex: 27094 entries, 0 to 27093\n",
      "Data columns (total 17 columns):\n",
      "artist            27094 non-null object\n",
      "content           27094 non-null object\n",
      "genre             24280 non-null object\n",
      "label             27049 non-null object\n",
      "title             27094 non-null object\n",
      "artist            27094 non-null object\n",
      "url               27094 non-null object\n",
      "score             27094 non-null float64\n",
      "best_new_music    27094 non-null int64\n",
      "author            27094 non-null object\n",
      "author_type       21132 non-null object\n",
      "pub_date          27094 non-null object\n",
      "pub_weekday       27094 non-null int64\n",
      "pub_day           27094 non-null int64\n",
      "pub_month         27094 non-null int64\n",
      "pub_year          27094 non-null int64\n",
      "year              26483 non-null float64\n",
      "dtypes: float64(2), int64(5), object(10)\n",
      "memory usage: 3.5+ MB\n",
      "None\n",
      "artist               0\n",
      "content              0\n",
      "genre                0\n",
      "label               45\n",
      "title                0\n",
      "artist               0\n",
      "url                  0\n",
      "score                0\n",
      "best_new_music       0\n",
      "author               0\n",
      "author_type       5962\n",
      "pub_date             0\n",
      "pub_weekday          0\n",
      "pub_day              0\n",
      "pub_month            0\n",
      "pub_year             0\n",
      "year               611\n",
      "dtype: int64\n"
     ]
    }
   ],
   "source": [
    "print(df.info())\n",
    "df['genre'] = df['genre'].fillna('Unkown Genre')\n",
    "print(df.isnull().sum())\n"
   ]
  },
  {
   "cell_type": "code",
   "execution_count": 8,
   "metadata": {},
   "outputs": [
    {
     "name": "stdout",
     "output_type": "stream",
     "text": [
      "rock            11136\n",
      "electronic       4484\n",
      "Unkown Genre     2814\n",
      "experimental     2228\n",
      "rap              1973\n",
      "pop/r&b          1712\n",
      "metal            1043\n",
      "folk/country      802\n",
      "jazz              561\n",
      "global            341\n",
      "Name: genre, dtype: int64\n",
      "2006    2144\n",
      "2007    1821\n",
      "2011    1811\n",
      "2016    1779\n",
      "2008    1771\n",
      "2010    1757\n",
      "2004    1712\n",
      "2005    1710\n",
      "2012    1680\n",
      "2009    1674\n",
      "2014    1670\n",
      "2013    1665\n",
      "2003    1585\n",
      "2015    1415\n",
      "2002    1345\n",
      "2001     652\n",
      "2000     526\n",
      "1999     354\n",
      "2017      23\n",
      "Name: pub_year, dtype: int64\n"
     ]
    }
   ],
   "source": [
    "print(df['genre'].value_counts())\n",
    "print(df['pub_year'].value_counts())\n",
    "genre_grouped = df[['genre', 'pub_year']]\n"
   ]
  },
  {
   "cell_type": "code",
   "execution_count": 9,
   "metadata": {},
   "outputs": [
    {
     "name": "stdout",
     "output_type": "stream",
     "text": [
      "['electronic' 'metal' 'rock' 'Unkown Genre' 'rap' 'experimental' 'pop/r&b'\n",
      " 'folk/country' 'jazz' 'global']\n"
     ]
    }
   ],
   "source": [
    "labels = genre_grouped['genre'].unique()\n",
    "print(labels)"
   ]
  },
  {
   "cell_type": "code",
   "execution_count": null,
   "metadata": {},
   "outputs": [],
   "source": [
    "import matplotlib.pyplot as plt\n",
    "plt.hist(labels, genre_grouped['pub_year'])\n",
    "plt.show()"
   ]
  },
  {
   "cell_type": "code",
   "execution_count": null,
   "metadata": {},
   "outputs": [],
   "source": []
  },
  {
   "cell_type": "code",
   "execution_count": null,
   "metadata": {},
   "outputs": [],
   "source": []
  }
 ],
 "metadata": {
  "kernelspec": {
   "display_name": "Python 3",
   "language": "python",
   "name": "python3"
  },
  "language_info": {
   "codemirror_mode": {
    "name": "ipython",
    "version": 3
   },
   "file_extension": ".py",
   "mimetype": "text/x-python",
   "name": "python",
   "nbconvert_exporter": "python",
   "pygments_lexer": "ipython3",
   "version": "3.7.0"
  }
 },
 "nbformat": 4,
 "nbformat_minor": 2
}
